{
 "cells": [
  {
   "cell_type": "code",
   "execution_count": null,
   "id": "eba890a9-2dd5-41a6-a350-592082c173f1",
   "metadata": {},
   "outputs": [],
   "source": [
    "# Q1, Create a vehicle class with an init method having instance variables as name_of_vehicle, max_speed\n",
    "# and average_of_vehicle."
   ]
  },
  {
   "cell_type": "code",
   "execution_count": 2,
   "id": "97163f44-60fa-44b0-a2e9-ec0f3af715b7",
   "metadata": {},
   "outputs": [],
   "source": [
    "class Vehicle:\n",
    "    def __init__(self,name_of_vehicle,max_speed,average_of_vehicle):\n",
    "        self.name_of_vehicle=name_of_vehicle\n",
    "        self.max_speed=max_speed\n",
    "        self.average_of_vehicle=average_of_vehicle\n",
    "        \n",
    "    def  display(self):\n",
    "        return self.name_of_vehicle,self.max_speed,self.average_of_vehicle\n",
    "    "
   ]
  },
  {
   "cell_type": "code",
   "execution_count": 3,
   "id": "39dcc2bc-4385-4fa1-8098-716751295dee",
   "metadata": {},
   "outputs": [],
   "source": [
    "v=Vehicle(\"sumo\",120,80)\n"
   ]
  },
  {
   "cell_type": "code",
   "execution_count": 4,
   "id": "13ed7d58-6867-4705-a0cc-d6a8d8848a6e",
   "metadata": {},
   "outputs": [
    {
     "data": {
      "text/plain": [
       "('sumo', 120, 80)"
      ]
     },
     "execution_count": 4,
     "metadata": {},
     "output_type": "execute_result"
    }
   ],
   "source": [
    "v.display()"
   ]
  },
  {
   "cell_type": "code",
   "execution_count": null,
   "id": "5d1960dc-7fe9-4275-aa53-a36882b84d2d",
   "metadata": {},
   "outputs": [],
   "source": [
    "# Q2. Create a child class car from the vehicle class created in Que 1, which will inherit the vehicle class.\n",
    "# Create a method named seating_capacity which takes capacity as an argument and returns the name of\n",
    "# the vehicle and its seating capacity."
   ]
  },
  {
   "cell_type": "code",
   "execution_count": 9,
   "id": "815be432-ad60-47e1-bf53-c20b740d778a",
   "metadata": {},
   "outputs": [
    {
     "data": {
      "text/plain": [
       "'The SUMO has a seating capacity of 8 people.'"
      ]
     },
     "execution_count": 9,
     "metadata": {},
     "output_type": "execute_result"
    }
   ],
   "source": [
    "class car(Vehicle):\n",
    "    def seating_capacity(self, capacity):\n",
    "        return f\"The {self.name_of_vehicle} has a seating capacity of {capacity} people.\"\n",
    "c = car(\"SUMO\",170,16.2)\n",
    "c.seating_capacity(8)"
   ]
  },
  {
   "cell_type": "code",
   "execution_count": null,
   "id": "a01663d1-1c39-4935-913d-9505a34481ca",
   "metadata": {},
   "outputs": [],
   "source": [
    "# Q3. What is multiple inheritance? Write a python code to demonstrate multiple inheritance."
   ]
  },
  {
   "cell_type": "code",
   "execution_count": null,
   "id": "4ec716c9-4c42-457d-9ba0-3b21c98025c0",
   "metadata": {},
   "outputs": [],
   "source": [
    "When a class can be derived from more than one base class.\n",
    "This type of inheritance is called multiple inheritances"
   ]
  },
  {
   "cell_type": "code",
   "execution_count": 10,
   "id": "3ecb182b-6e48-406e-8ced-6c38cfe8995d",
   "metadata": {},
   "outputs": [
    {
     "name": "stdout",
     "output_type": "stream",
     "text": [
      "Acessing parent1 Class\n",
      "Acessing parent2 Class\n",
      "This is Child Class\n"
     ]
    }
   ],
   "source": [
    "class Parent1:\n",
    "    def fun(self):\n",
    "        print(\"Acessing parent1 Class\")\n",
    "        \n",
    "\n",
    "class Parent2:\n",
    "    def func2(self):\n",
    "        print(\"Acessing parent2 Class\")\n",
    "        \n",
    "#Derived Class\n",
    "class child(Parent1,Parent2):\n",
    "    def func3(self):\n",
    "        print(\"This is Child Class\")\n",
    "    \n",
    "object = child()\n",
    "object.fun()\n",
    "object.func2()\n",
    "object.func3()"
   ]
  },
  {
   "cell_type": "code",
   "execution_count": null,
   "id": "e33fa518-f1cd-4a5f-8def-08feb4d78c7f",
   "metadata": {},
   "outputs": [],
   "source": [
    "# Q4. What are getter and setter in python? Create a class and create a getter and a setter method in this\n",
    "# class."
   ]
  },
  {
   "cell_type": "code",
   "execution_count": null,
   "id": "ede6df2a-c17c-4796-a7b9-938c60dca4ae",
   "metadata": {},
   "outputs": [],
   "source": [
    "Getter and Setter functions, also known as property methods.\n",
    "Are a way to encapsulate the access and modification of class attributes.\n",
    "They allow for controlled access to the attributes by providing methods to get (retrieve) and set (modify) their values."
   ]
  },
  {
   "cell_type": "code",
   "execution_count": 11,
   "id": "f385c43b-8413-4f1c-a5a9-2d48ce1f4b8b",
   "metadata": {},
   "outputs": [],
   "source": [
    "class Admission:\n",
    "    \n",
    "    def __init__(self,course_price,course_name):\n",
    "        self.__course_price = course_price\n",
    "        self.course_name = course_name\n",
    "        \n",
    "#getter method   \n",
    "    @property\n",
    "    def course_price_access(self):\n",
    "        return self.__course_price\n",
    "\n",
    "#setter method\n",
    "    @course_price_access.setter\n",
    "    def course_price_set(self,price):\n",
    "        if price<=140000:\n",
    "            pass\n",
    "        else:\n",
    "            self.__course_price = price"
   ]
  },
  {
   "cell_type": "code",
   "execution_count": 12,
   "id": "78007fca-c723-41cf-8c5b-902d81325647",
   "metadata": {},
   "outputs": [],
   "source": [
    "clg=Admission(24000,\"BE\")\n"
   ]
  },
  {
   "cell_type": "code",
   "execution_count": 14,
   "id": "1b288bc9-cdd4-412f-9bc0-f889e8f3c537",
   "metadata": {},
   "outputs": [
    {
     "data": {
      "text/plain": [
       "24000"
      ]
     },
     "execution_count": 14,
     "metadata": {},
     "output_type": "execute_result"
    }
   ],
   "source": [
    "clg.course_price_access\n"
   ]
  },
  {
   "cell_type": "code",
   "execution_count": null,
   "id": "8e0d1018-4f08-4e67-b9a7-a1bfd3cfac03",
   "metadata": {},
   "outputs": [],
   "source": [
    "# Q5.What is method overriding in python? Write a python code to demonstrate method overriding."
   ]
  },
  {
   "cell_type": "code",
   "execution_count": null,
   "id": "b66f9265-a152-4bf4-8cfa-f5970c94931b",
   "metadata": {},
   "outputs": [],
   "source": [
    "Method overriding in Python is a feature that allows a subclass to provide a different implementation of a method that is already defined in its parent class."
   ]
  },
  {
   "cell_type": "code",
   "execution_count": null,
   "id": "f1c7834b-141d-484a-851a-cbccbffde7bb",
   "metadata": {},
   "outputs": [],
   "source": [
    "class Vehicle:\n",
    "\n",
    "    def display_info(self):\n",
    "        print(\"Class Vehicle\")\n",
    "\n",
    "\n",
    "class Car(Vehicle):\n",
    "\n",
    "    def display_info(self):\n",
    "        print(\"Class Car\")"
   ]
  }
 ],
 "metadata": {
  "kernelspec": {
   "display_name": "Python 3 (ipykernel)",
   "language": "python",
   "name": "python3"
  },
  "language_info": {
   "codemirror_mode": {
    "name": "ipython",
    "version": 3
   },
   "file_extension": ".py",
   "mimetype": "text/x-python",
   "name": "python",
   "nbconvert_exporter": "python",
   "pygments_lexer": "ipython3",
   "version": "3.10.8"
  }
 },
 "nbformat": 4,
 "nbformat_minor": 5
}
